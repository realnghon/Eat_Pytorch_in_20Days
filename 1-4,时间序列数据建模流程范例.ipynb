{
 "cells": [
  {
   "cell_type": "markdown",
   "id": "520bca22",
   "metadata": {},
   "source": [
    "# 1-4,时间序列数据建模流程范例"
   ]
  },
  {
   "cell_type": "markdown",
   "id": "914d0791",
   "metadata": {},
   "source": [
    "2020年发生的新冠肺炎疫情灾难给各国人民的生活造成了诸多方面的影响。\n",
    "\n",
    "有的同学是收入上的，有的同学是感情上的，有的同学是心理上的，还有的同学是体重上的。\n",
    "\n",
    "本文基于中国2020年3月之前的疫情数据，建立时间序列RNN模型，对中国的新冠肺炎疫情结束时间进行预测。"
   ]
  },
  {
   "cell_type": "markdown",
   "id": "7fd11a67",
   "metadata": {},
   "source": [
    "![](./data/疫情前后对比.png)"
   ]
  },
  {
   "cell_type": "code",
   "execution_count": null,
   "id": "306f3ae5",
   "metadata": {},
   "outputs": [],
   "source": [
    "import torch\n",
    "\n",
    "print(\"torch.__version__ = \", torch.__version__)\n",
    "\n"
   ]
  },
  {
   "cell_type": "code",
   "execution_count": null,
   "id": "19e680ac",
   "metadata": {},
   "outputs": [],
   "source": [
    "import os\n",
    "\n",
    "#mac系统上pytorch和matplotlib在jupyter中同时跑需要更改环境变量\n",
    "os.environ[\"KMP_DUPLICATE_LIB_OK\"] = \"TRUE\"\n"
   ]
  },
  {
   "cell_type": "markdown",
   "id": "4d46f9f9",
   "metadata": {},
   "source": [
    "## 一，准备数据"
   ]
  },
  {
   "cell_type": "markdown",
   "id": "4a5acccb",
   "metadata": {},
   "source": [
    "本文的数据集取自tushare，获取该数据集的方法参考了以下文章。\n",
    "\n",
    "《https://zhuanlan.zhihu.com/p/109556102》\n",
    "\n",
    "![](./data/1-4-新增人数.png)\n"
   ]
  },
  {
   "cell_type": "code",
   "execution_count": null,
   "id": "738b171a",
   "metadata": {},
   "outputs": [],
   "source": [
    "\n"
   ]
  },
  {
   "cell_type": "code",
   "execution_count": null,
   "id": "903d0408",
   "metadata": {},
   "outputs": [],
   "source": [
    "# 使用Jupyter Notebook魔法命令，将Matplotlib的图形内联显示在Notebook中\n",
    "%matplotlib inline\n",
    "\n",
    "# 配置图形输出格式为SVG，这将影响图形的显示质量\n",
    "%config InlineBackend.figure_format = 'svg'\n",
    "\n",
    "# 导入Pandas库并使用\"pd\"作为别名\n",
    "import pandas as pd\n",
    "\n",
    "# 导入Matplotlib库并使用\"plt\"作为别名\n",
    "import matplotlib.pyplot as plt\n",
    "\n",
    "# 使用Pandas的read_csv函数从文件中读取数据并存储在DataFrame对象中\n",
    "# 文件路径为\"./eat_pytorch_datasets/covid-19.csv\"，分隔符为制表符(\"\\t\")\n",
    "df = pd.read_csv(\"./eat_pytorch_datasets/covid-19.csv\", sep=\"\\t\")\n",
    "\n",
    "# 使用DataFrame的plot方法绘制折线图\n",
    "# x轴数据为\"date\"列，y轴数据包括\"confirmed_num\"、\"cured_num\"和\"dead_num\"列\n",
    "# 设置图形的尺寸为(8, 5)\n",
    "df.plot(x=\"date\", y=[\"confirmed_num\", \"cured_num\", \"dead_num\"], figsize=(8, 5))\n",
    "\n",
    "# 旋转x轴刻度标签，以免它们重叠在一起\n",
    "plt.xticks(rotation=0)\n"
   ]
  },
  {
   "cell_type": "code",
   "execution_count": null,
   "id": "e5a55006",
   "metadata": {},
   "outputs": [],
   "source": [
    "# 使用Pandas的set_index方法将DataFrame的索引设置为\"date\"列，以便按日期进行数据处理\n",
    "dfdata = df.set_index(\"date\")\n",
    "\n",
    "# 使用Pandas的diff方法计算每日变化，并删除NaN值\n",
    "dfdiff = dfdata.diff(periods=1).dropna()\n",
    "\n",
    "# 将索引重置为\"date\"列，以便在后续绘图中使用日期作为x轴\n",
    "dfdiff = dfdiff.reset_index(\"date\")\n",
    "\n",
    "# 使用DataFrame的plot方法创建每日变化的折线图\n",
    "# x轴数据为\"date\"列，y轴数据包括\"confirmed_num\"、\"cured_num\"和\"dead_num\"列\n",
    "# 设置图形的尺寸为(8, 5)\n",
    "dfdiff.plot(x=\"date\", y=[\"confirmed_num\", \"cured_num\", \"dead_num\"], figsize=(8, 5))\n",
    "\n",
    "# 旋转x轴刻度标签，以免它们重叠在一起\n",
    "plt.xticks(rotation=0)\n",
    "\n",
    "# 删除\"date\"列并将DataFrame的数据类型转换为float32\n",
    "# 这通常用于提高数据的计算性能\n",
    "dfdiff = dfdiff.drop(\"date\", axis=1).astype(\"float32\")\n"
   ]
  },
  {
   "cell_type": "code",
   "execution_count": null,
   "id": "8cb89487",
   "metadata": {},
   "outputs": [],
   "source": [
    "dfdiff.head()"
   ]
  },
  {
   "cell_type": "markdown",
   "id": "15dc30a0",
   "metadata": {},
   "source": [
    "下面我们通过继承torch.utils.data.Dataset实现自定义时间序列数据集。\n",
    "\n",
    "torch.utils.data.Dataset是一个抽象类，用户想要加载自定义的数据只需要继承这个类，并且覆写其中的两个方法即可：\n",
    "\n",
    "* `__len__`:实现len(dataset)返回整个数据集的大小。\n",
    "* `__getitem__`:用来获取一些索引的数据，使`dataset[i]`返回数据集中第i个样本。\n",
    "\n",
    "不覆写这两个方法会直接返回错误。\n"
   ]
  },
  {
   "cell_type": "code",
   "execution_count": null,
   "id": "d654bf5d",
   "metadata": {},
   "outputs": [],
   "source": [
    "# 导入PyTorch中的数据集(Dataset)和数据加载器(DataLoader)模块\n",
    "from torch.utils.data import Dataset, DataLoader\n",
    "\n",
    "# 用某日前8天窗口数据作为输入来预测该日数据\n",
    "WINDOW_SIZE = 8\n",
    "\n",
    "\n",
    "# 自定义Covid19Dataset类，继承自PyTorch的Dataset类\n",
    "class Covid19Dataset(Dataset):\n",
    "\n",
    "    # 定义Dataset的长度，即数据样本的数量\n",
    "    def __len__(self):\n",
    "        # 数据集的长度为dfdiff的长度减去窗口大小（因为需要一定数量的历史数据来预测）\n",
    "        return len(dfdiff) - WINDOW_SIZE\n",
    "\n",
    "    # 定义如何获取数据样本\n",
    "    def __getitem__(self, i):\n",
    "        # 从DataFrame中提取历史数据作为输入特征\n",
    "        x = dfdiff.loc[i:i + WINDOW_SIZE - 1, :]\n",
    "        # 将特征数据转换为PyTorch张量\n",
    "        feature = torch.tensor(x.values)\n",
    "        # 获取该日的目标数据作为标签\n",
    "        y = dfdiff.loc[i + WINDOW_SIZE, :]\n",
    "        # 将标签数据转换为PyTorch张量\n",
    "        label = torch.tensor(y.values)\n",
    "        # 返回特征和标签的元组\n",
    "        return (feature, label)\n",
    "\n",
    "\n",
    "# 创建Covid19Dataset的实例，即数据集对象\n",
    "ds_train = Covid19Dataset()\n",
    "\n",
    "# 数据较小，可以将全部训练数据放入一个批次中，以提高性能\n",
    "# 创建数据加载器对象，用于批量加载数据\n",
    "# batch_size参数设置为38，表示将数据划分为大小为38的批次\n",
    "dl_train = DataLoader(ds_train, batch_size=38)\n",
    "\n",
    "# 遍历数据加载器，将第一个批次的数据提取出来\n",
    "for features, labels in dl_train:\n",
    "    break\n",
    "\n",
    "# 将训练数据加载器同时用作验证数据加载器\n",
    "dl_val = dl_train"
   ]
  },
  {
   "cell_type": "markdown",
   "id": "3f1410eb",
   "metadata": {},
   "source": [
    "## 二，定义模型"
   ]
  },
  {
   "cell_type": "markdown",
   "id": "1b39abea",
   "metadata": {},
   "source": [
    "使用Pytorch通常有三种方式构建模型：使用nn.Sequential按层顺序构建模型，继承nn.Module基类构建自定义模型，继承nn.Module基类构建模型并辅助应用模型容器进行封装。\n",
    "\n",
    "此处选择第二种方式构建模型。\n",
    "\n"
   ]
  },
  {
   "cell_type": "code",
   "execution_count": null,
   "id": "42466f8b",
   "metadata": {},
   "outputs": [],
   "source": [
    "# 导入PyTorch库\n",
    "import torch\n",
    "# 导入PyTorch的神经网络模块\n",
    "from torch import nn\n",
    "\n",
    "# 设置随机种子以确保结果的可重复性\n",
    "torch.random.seed()\n",
    "\n",
    "\n",
    "# 定义一个自定义的神经网络块（Block）类\n",
    "class Block(nn.Module):\n",
    "    def __init__(self):\n",
    "        super(Block, self).__init__()\n",
    "\n",
    "    def forward(self, x, x_input):\n",
    "        # 计算输出，采用ReLU激活函数\n",
    "        x_out = torch.max((1 + x) * x_input[:, -1, :], torch.tensor(0.0))\n",
    "        return x_out\n",
    "\n",
    "\n",
    "# 定义一个神经网络类（Net）继承自PyTorch的nn.Module\n",
    "class Net(nn.Module):\n",
    "    def __init__(self):\n",
    "        super(Net, self).__init__()\n",
    "        # 定义一个LSTM层，包括输入大小为3，隐藏大小为3，5个堆叠的LSTM层，batch_first参数表示批次维度在第一维\n",
    "        self.lstm = nn.LSTM(input_size=3, hidden_size=3, num_layers=5, batch_first=True)\n",
    "        # 定义一个线性层，将LSTM的输出维度从3变换为3\n",
    "        self.linear = nn.Linear(3, 3)\n",
    "        # 创建一个自定义块的实例\n",
    "        self.block = Block()\n",
    "\n",
    "    def forward(self, x_input):\n",
    "        # 将输入数据传递给LSTM层，取最后一个时间步的输出\n",
    "        x = self.lstm(x_input)[0][:, -1, :]\n",
    "        # 将LSTM的输出传递给线性层\n",
    "        x = self.linear(x)\n",
    "        # 将线性层的输出和输入数据传递给自定义块\n",
    "        y = self.block(x, x_input)\n",
    "        return y\n",
    "\n",
    "\n",
    "# 创建神经网络的实例\n",
    "net = Net()\n",
    "# 打印网络的结构\n",
    "print(net)\n"
   ]
  },
  {
   "cell_type": "code",
   "execution_count": null,
   "id": "e02fe265",
   "metadata": {},
   "outputs": [],
   "source": [
    "# 导入torchkeras库中的summary函数\n",
    "from torchkeras import summary\n",
    "\n",
    "# 使用summary函数来查看神经网络模型的摘要信息\n",
    "# 参数net是要查看的模型，input_data是输入数据，这里使用了之前加载的features\n",
    "summary(net, input_data=features)\n"
   ]
  },
  {
   "cell_type": "markdown",
   "id": "4d8d90bc",
   "metadata": {},
   "source": [
    "### 三，训练模型"
   ]
  },
  {
   "cell_type": "markdown",
   "id": "39722b11",
   "metadata": {},
   "source": [
    "训练Pytorch通常需要用户编写自定义训练循环，训练循环的代码风格因人而异。\n",
    "\n",
    "有3类典型的训练循环代码风格：脚本形式训练循环，函数形式训练循环，类形式训练循环。\n",
    "\n",
    "此处我们通过引入torchkeras库中的KerasModel工具来训练模型，无需编写自定义循环。\n",
    "\n",
    "torchkeras详情:  https://github.com/lyhue1991/torchkeras \n",
    "\n",
    "注：循环神经网络调试较为困难，需要设置多个不同的学习率多次尝试，以取得较好的效果。\n",
    "\n"
   ]
  },
  {
   "cell_type": "code",
   "execution_count": null,
   "id": "fd846cf3-8a65-4cbf-8bc9-ba28c6eed841",
   "metadata": {},
   "outputs": [],
   "source": [
    "# 导入torchmetrics库中的MeanAbsolutePercentageError指标\n",
    "from torchmetrics.regression import MeanAbsolutePercentageError\n",
    "\n",
    "\n",
    "# 定义均方百分比误差（Mean Squared Percentage Error，MSPE）函数\n",
    "def mspe(y_pred, y_true):\n",
    "    # 计算误差的百分比\n",
    "    err_percent = (y_true - y_pred) ** 2 / (torch.max(y_true ** 2, torch.tensor(1e-7)))\n",
    "    # 计算均值\n",
    "    return torch.mean(err_percent)\n",
    "\n",
    "\n",
    "# 创建神经网络模型实例\n",
    "net = Net()\n",
    "\n",
    "# 定义损失函数为MSPE\n",
    "loss_fn = mspe\n",
    "\n",
    "# 定义一个字典，其中包含要使用的度量指标\n",
    "metric_dict = {\"mape\": MeanAbsolutePercentageError()}\n",
    "\n",
    "# 定义优化器，这里使用Adam优化器，学习率为0.03，优化神经网络的参数\n",
    "optimizer = torch.optim.Adam(net.parameters(), lr=0.03)\n",
    "\n",
    "# 定义学习率调度器，这里使用StepLR调度器，每10个epoch将学习率乘以0.0001\n",
    "lr_scheduler = torch.optim.lr_scheduler.StepLR(optimizer, step_size=10, gamma=0.0001)\n"
   ]
  },
  {
   "cell_type": "code",
   "execution_count": null,
   "id": "9bfa7af9-ab5f-4fa5-bc61-3e1cd77cc087",
   "metadata": {},
   "outputs": [],
   "source": [
    "# 导入torchkeras库中的KerasModel类\n",
    "from torchkeras import KerasModel\n",
    "\n",
    "# 创建KerasModel实例，将神经网络模型(net)、损失函数(loss_fn)、度量指标(metrics_dict)、优化器(optimizer)和学习率调度器(lr_scheduler)传递给它\n",
    "model = KerasModel(net,\n",
    "                   loss_fn=loss_fn,\n",
    "                   metrics_dict=metric_dict,\n",
    "                   optimizer=optimizer,\n",
    "                   lr_scheduler=lr_scheduler)\n"
   ]
  },
  {
   "cell_type": "code",
   "execution_count": null,
   "id": "d8185438",
   "metadata": {},
   "outputs": [],
   "source": [
    "# 使用model.fit方法来训练神经网络模型\n",
    "dfhistory = model.fit(\n",
    "    # 训练数据加载器\n",
    "    train_data=dl_train,\n",
    "    # 验证数据加载器\n",
    "    val_data=dl_val,\n",
    "    # 训练的总轮数（epochs）\n",
    "    epochs=100,\n",
    "    # 用于保存最佳模型的路径\n",
    "    ckpt_path='checkpoint',\n",
    "    # 当验证损失不再减小时的耐心期限，用于早停（early stopping）\n",
    "    patience=10,\n",
    "    # 用于监视的指标，这里使用验证损失\n",
    "    monitor='val_loss',\n",
    "    # 早停的模式，这里选择最小化验证损失\n",
    "    mode='min',\n",
    "    # 回调函数，用于自定义训练过程中的操作，这里设为None\n",
    "    callbacks=None,\n",
    "    # 是否绘制训练和验证曲线\n",
    "    plot=True,\n",
    "    # 是否在CPU上训练（如果为False，则使用GPU）\n",
    "    cpu=True\n",
    ")\n"
   ]
  },
  {
   "cell_type": "markdown",
   "id": "ed66a496",
   "metadata": {},
   "source": [
    "### 四，评估模型"
   ]
  },
  {
   "cell_type": "markdown",
   "id": "b51cbde5",
   "metadata": {},
   "source": [
    "评估模型一般要设置验证集或者测试集，由于此例数据较少，我们仅仅可视化损失函数在训练集上的迭代情况。"
   ]
  },
  {
   "cell_type": "code",
   "execution_count": null,
   "id": "46963c00",
   "metadata": {},
   "outputs": [],
   "source": [
    "# 使用model.evaluate方法来评估神经网络模型在验证数据集(dl_val)上的性能\n",
    "model.evaluate(dl_val)"
   ]
  },
  {
   "cell_type": "markdown",
   "id": "2687ac02",
   "metadata": {},
   "source": [
    "### 五，使用模型"
   ]
  },
  {
   "cell_type": "markdown",
   "id": "59e0db6a",
   "metadata": {},
   "source": [
    "此处我们使用模型预测疫情结束时间，即 新增确诊病例为0 的时间。"
   ]
  },
  {
   "cell_type": "code",
   "execution_count": null,
   "id": "4164d6eb",
   "metadata": {},
   "outputs": [],
   "source": [
    "# 使用dfresult记录现有数据以及此后预测的疫情数据\n",
    "# 从dfdiff中复制\"confirmed_num\"、\"cured_num\"和\"dead_num\"列的数据到dfresult\n",
    "dfresult = dfdiff[[\"confirmed_num\", \"cured_num\", \"dead_num\"]].copy()\n",
    "\n",
    "# 打印dfresult的末尾几行数据\n",
    "dfresult.tail()\n"
   ]
  },
  {
   "cell_type": "code",
   "execution_count": null,
   "id": "727b7d0e",
   "metadata": {},
   "outputs": [],
   "source": [
    "# 循环预测未来1000天的新增疫情走势\n",
    "for i in range(1000):\n",
    "    # 从dfresult中获取最近的38天数据，并将其转换为PyTorch张量\n",
    "    arr_input = torch.unsqueeze(torch.from_numpy(dfresult.values[-38:, :]), axis=0)\n",
    "\n",
    "    # 使用模型进行预测\n",
    "    arr_predict = model.forward(arr_input)\n",
    "\n",
    "    # 将预测结果转换为DataFrame，并设置列名为dfresult的列名\n",
    "    dfpredict = pd.DataFrame(torch.floor(arr_predict).data.numpy(),\n",
    "                             columns=dfresult.columns)\n",
    "\n",
    "    # 将预测结果与dfresult连接，将其添加到dfresult中，并忽略索引\n",
    "    dfresult = pd.concat([dfresult, dfpredict], ignore_index=True)\n"
   ]
  },
  {
   "cell_type": "code",
   "execution_count": null,
   "id": "d081b013",
   "metadata": {},
   "outputs": [],
   "source": [
    "# 查询dfresult DataFrame 中\"confirmed_num\"列的值为0的行，并显示前几行结果\n",
    "dfresult.query(\"confirmed_num==0\").head()\n",
    "\n",
    "# 第50天开始新增确诊降为0，第45天对应3月10日，也就是5天后，即预计3月15日新增确诊降为0\n",
    "# 注：该预测偏乐观\n"
   ]
  },
  {
   "cell_type": "code",
   "execution_count": null,
   "id": "cc5477ab",
   "metadata": {},
   "outputs": [],
   "source": [
    "dfresult.query(\"cured_num==0\").head()\n",
    "# 第137天开始新增治愈降为0，第45天对应3月10日，也就是大概3个月后，即6月12日左右全部治愈。\n",
    "# 注: 该预测偏悲观，并且存在问题，如果将每天新增治愈人数加起来，将超过累计确诊人数。"
   ]
  },
  {
   "cell_type": "markdown",
   "id": "ec4f9500",
   "metadata": {},
   "source": [
    "### 六，保存模型"
   ]
  },
  {
   "cell_type": "markdown",
   "id": "9a78086b",
   "metadata": {},
   "source": [
    "模型权重保存在了model.ckpt_path路径。"
   ]
  },
  {
   "cell_type": "code",
   "execution_count": null,
   "id": "859daed0-91c7-4ad6-9789-2c238ebb9990",
   "metadata": {},
   "outputs": [],
   "source": [
    "print(model.ckpt_path)"
   ]
  },
  {
   "cell_type": "code",
   "execution_count": null,
   "id": "b3ad034a-63a5-42df-b65e-1cd4d7c543bf",
   "metadata": {},
   "outputs": [],
   "source": [
    "model.load_ckpt('checkpoint')  #可以加载权重"
   ]
  }
 ],
 "metadata": {
  "jupytext": {
   "cell_metadata_filter": "-all",
   "formats": "ipynb,md",
   "main_language": "python"
  },
  "kernelspec": {
   "display_name": "Python 3 (ipykernel)",
   "language": "python",
   "name": "python3"
  },
  "language_info": {
   "codemirror_mode": {
    "name": "ipython",
    "version": 3
   },
   "file_extension": ".py",
   "mimetype": "text/x-python",
   "name": "python",
   "nbconvert_exporter": "python",
   "pygments_lexer": "ipython3",
   "version": "3.9.0"
  }
 },
 "nbformat": 4,
 "nbformat_minor": 5
}
