{
 "cells": [
  {
   "cell_type": "markdown",
   "id": "73c45d9e",
   "metadata": {},
   "source": [
    "# 4-1,张量的结构操作\n",
    "\n",
    "本篇我们介绍张量的结构操作。\n",
    "\n",
    "张量结构操作主要包括：张量创建，索引切片，维度变换，合并分割。\n",
    "\n",
    "\n"
   ]
  },
  {
   "cell_type": "code",
   "execution_count": null,
   "id": "2d5140da",
   "metadata": {},
   "outputs": [],
   "source": [
    "import torch\n",
    "\n",
    "print(\"torch.__version__=\" + torch.__version__)"
   ]
  },
  {
   "cell_type": "markdown",
   "id": "ce5e93cd",
   "metadata": {},
   "source": [
    "### 一，创建张量"
   ]
  },
  {
   "cell_type": "markdown",
   "id": "19afd9f2",
   "metadata": {},
   "source": [
    "张量创建的许多方法和numpy中创建array的方法很像。"
   ]
  },
  {
   "cell_type": "code",
   "execution_count": null,
   "id": "67963200",
   "metadata": {},
   "outputs": [],
   "source": [
    "import numpy as np\n",
    "import torch"
   ]
  },
  {
   "cell_type": "code",
   "execution_count": null,
   "id": "38784279",
   "metadata": {},
   "outputs": [],
   "source": [
    "a = torch.tensor([1, 2, 3], dtype=torch.float)\n",
    "print(a)"
   ]
  },
  {
   "cell_type": "code",
   "execution_count": null,
   "id": "089f2763",
   "metadata": {},
   "outputs": [],
   "source": [
    "b = torch.arange(1, 10, step=2)\n",
    "print(b)"
   ]
  },
  {
   "cell_type": "code",
   "execution_count": null,
   "id": "8a56defe",
   "metadata": {},
   "outputs": [],
   "source": [
    "c = torch.linspace(0.0, 2 * 3.14, 10)\n",
    "print(c)"
   ]
  },
  {
   "cell_type": "code",
   "execution_count": null,
   "id": "79ef680d",
   "metadata": {},
   "outputs": [],
   "source": [
    "d = torch.zeros((3, 3))\n",
    "print(d)"
   ]
  },
  {
   "cell_type": "code",
   "execution_count": null,
   "id": "c6e294e2",
   "metadata": {},
   "outputs": [],
   "source": [
    "a = torch.ones((3, 3), dtype=torch.int)\n",
    "b = torch.zeros_like(a, dtype=torch.float)\n",
    "print(a)\n",
    "print(b)\n"
   ]
  },
  {
   "cell_type": "code",
   "execution_count": null,
   "id": "827a9fb4",
   "metadata": {},
   "outputs": [],
   "source": [
    "torch.fill_(b, 5)  # fill_方法是一个原地操作，会修改原始张量b的内容\n",
    "print(b)"
   ]
  },
  {
   "cell_type": "code",
   "execution_count": null,
   "id": "a2b191f2",
   "metadata": {},
   "outputs": [],
   "source": [
    "# 设置随机种子，以确保生成的随机数可复现\n",
    "torch.manual_seed(0)\n",
    "\n",
    "# 定义均匀分布的最小值和最大值\n",
    "minval, maxval = 0, 10\n",
    "\n",
    "# 使用torch.rand()生成一个包含5个随机数的一维张量\n",
    "# 这些随机数在[minval, maxval)范围内均匀分布\n",
    "a = minval + (maxval - minval) * torch.rand([5])\n",
    "\n",
    "# 打印生成的随机数张量a\n",
    "print(a)\n"
   ]
  },
  {
   "cell_type": "code",
   "execution_count": null,
   "id": "3a0e6228",
   "metadata": {},
   "outputs": [],
   "source": [
    "# 使用torch.normal()生成一个正态分布的随机数张量\n",
    "# 这里使用了两个参数，mean和std，分别表示均值和标准差\n",
    "# mean=torch.zeros(3, 3) 表示均值为一个3x3的全零矩阵\n",
    "# std=torch.ones(3, 3) 表示标准差为一个3x3的全一矩阵\n",
    "b = torch.normal(mean=torch.zeros(3, 3), std=torch.ones(3, 3))\n",
    "\n",
    "# 打印生成的正态分布随机数张量b\n",
    "print(b)\n"
   ]
  },
  {
   "cell_type": "code",
   "execution_count": null,
   "id": "897c8f4d",
   "metadata": {},
   "outputs": [],
   "source": [
    "# 定义正态分布的均值和标准差\n",
    "mean, std = 2, 5\n",
    "\n",
    "# 使用torch.randn()生成一个正态分布的随机数张量\n",
    "# 这里的张量形状是(3, 3)，表示一个3x3的矩阵\n",
    "# 随机数服从均值为mean，标准差为std的正态分布\n",
    "c = std * torch.randn((3, 3)) + mean\n",
    "\n",
    "# 打印生成的正态分布随机数张量c\n",
    "print(c)\n"
   ]
  },
  {
   "cell_type": "code",
   "execution_count": null,
   "id": "fceecfdd",
   "metadata": {},
   "outputs": [],
   "source": [
    "# 使用torch.randperm()生成一个包含1到19的整数的随机排列\n",
    "# 参数20表示生成的整数范围是从0到19（总共20个整数）\n",
    "d = torch.randperm(20)\n",
    "\n",
    "# 打印生成的随机排列d\n",
    "print(d)\n"
   ]
  },
  {
   "cell_type": "code",
   "execution_count": null,
   "id": "d231f907",
   "metadata": {},
   "outputs": [],
   "source": [
    "# 创建一个3x3的单位矩阵\n",
    "I = torch.eye(3, 3)\n",
    "\n",
    "# 打印单位矩阵I\n",
    "print(\"单位矩阵（Identity Matrix）：\")\n",
    "print(I)\n",
    "\n",
    "# 创建一个对角矩阵，对角线上的元素分别为1、2和3\n",
    "t = torch.diag(torch.tensor([1, 2, 3]))\n",
    "\n",
    "# 打印对角矩阵t\n",
    "print(\"对角矩阵（Diagonal Matrix）：\")\n",
    "print(t)\n"
   ]
  },
  {
   "cell_type": "markdown",
   "id": "f461074e",
   "metadata": {},
   "source": [
    "### 二 ，索引切片"
   ]
  },
  {
   "cell_type": "markdown",
   "id": "f460ba5c",
   "metadata": {},
   "source": [
    "张量的索引切片方式和numpy几乎是一样的。切片时支持缺省参数和省略号。\n",
    "\n",
    "可以通过索引和切片对部分元素进行修改。\n",
    "\n",
    "此外，对于不规则的切片提取,可以使用torch.index_select, torch.masked_select, torch.take\n",
    "\n",
    "如果要通过修改张量的某些元素得到新的张量，可以使用torch.where,torch.masked_fill,torch.index_fill"
   ]
  },
  {
   "cell_type": "code",
   "execution_count": null,
   "id": "2d562ecc",
   "metadata": {},
   "outputs": [],
   "source": [
    "# 设置随机种子，以确保生成的随机数是可复现的\n",
    "torch.manual_seed(0)\n",
    "\n",
    "# 定义均匀分布的最小值和最大值\n",
    "minval, maxval = 0, 10\n",
    "\n",
    "# 使用torch.rand()生成一个5x5的均匀分布的随机数矩阵\n",
    "# 然后使用torch.floor()将随机数矩阵中的每个元素向下取整\n",
    "# 最后通过.int()方法将结果转换为整数矩阵\n",
    "t = torch.floor(minval + (maxval - minval) * torch.rand([5, 5])).int()\n",
    "\n",
    "# 打印生成的均匀随机整数矩阵t\n",
    "print(t)\n"
   ]
  },
  {
   "cell_type": "code",
   "execution_count": null,
   "id": "cd695542",
   "metadata": {},
   "outputs": [],
   "source": [
    "#第0行\n",
    "print(t[0])"
   ]
  },
  {
   "cell_type": "code",
   "execution_count": null,
   "id": "7e2d299a",
   "metadata": {},
   "outputs": [],
   "source": [
    "#倒数第一行\n",
    "print(t[-1])"
   ]
  },
  {
   "cell_type": "code",
   "execution_count": null,
   "id": "83e9c09d",
   "metadata": {},
   "outputs": [],
   "source": [
    "#第1行第3列\n",
    "print(t[1, 3])\n",
    "print(t[1][3])"
   ]
  },
  {
   "cell_type": "code",
   "execution_count": null,
   "id": "c3bec0e0",
   "metadata": {},
   "outputs": [],
   "source": [
    "#第1行至第3行\n",
    "print(t[1:4, :])"
   ]
  },
  {
   "cell_type": "code",
   "execution_count": null,
   "id": "b056c6aa",
   "metadata": {},
   "outputs": [],
   "source": [
    "#第1行至最后一行，第0列到最后一列每隔两列取一列\n",
    "print(t[1:4, :4:2])\n"
   ]
  },
  {
   "cell_type": "code",
   "execution_count": null,
   "id": "f8989377",
   "metadata": {},
   "outputs": [],
   "source": [
    "#可以使用索引和切片修改部分元素\n",
    "x = torch.Tensor([[1, 2], [3, 4]])\n",
    "x.data[1, :] = torch.tensor([0.0, 0.0])\n",
    "x"
   ]
  },
  {
   "cell_type": "code",
   "execution_count": null,
   "id": "33abd721",
   "metadata": {},
   "outputs": [],
   "source": [
    "a = torch.arange(27).view(3, 3, 3)\n",
    "print(a)"
   ]
  },
  {
   "cell_type": "code",
   "execution_count": null,
   "id": "7ddeb6d6",
   "metadata": {},
   "outputs": [],
   "source": [
    "#省略号可以表示多个冒号\n",
    "print(a[..., 1])"
   ]
  },
  {
   "cell_type": "markdown",
   "id": "047c830a",
   "metadata": {},
   "source": [
    "以上切片方式相对规则，对于不规则的切片提取,可以使用torch.index_select, torch.take, torch.gather, torch.masked_select.\n",
    "\n",
    "考虑班级成绩册的例子，有4个班级，每个班级5个学生，每个学生7门科目成绩。可以用一个4×5×7的张量来表示。\n"
   ]
  },
  {
   "cell_type": "code",
   "execution_count": null,
   "id": "1c8edbc7",
   "metadata": {},
   "outputs": [],
   "source": [
    "minval = 0\n",
    "maxval = 100\n",
    "\n",
    "# 使用 torch.rand() 生成一个形状为 (4, 5, 7) 的均匀随机数张量\n",
    "# 然后将其缩放和平移，以确保生成在指定的最小值和最大值范围内\n",
    "# 最后，通过 .int() 方法将结果转换为整数类型的张量\n",
    "scores = torch.floor(minval + (maxval - minval) * torch.rand([4, 5, 7])).int()\n",
    "\n",
    "# 打印生成的随机整数张量 scores\n",
    "print(scores)\n"
   ]
  },
  {
   "cell_type": "code",
   "execution_count": null,
   "id": "3cc30352",
   "metadata": {},
   "outputs": [],
   "source": [
    "#抽取每个班级第0个学生，第2个学生，第4个学生的全部成绩\n",
    "torch.index_select(scores, dim=1, index=torch.tensor([0, 2, 4]))\n"
   ]
  },
  {
   "cell_type": "code",
   "execution_count": null,
   "id": "e82bc37a",
   "metadata": {},
   "outputs": [],
   "source": [
    "# scores 是包含学生成绩的张量，形状为 (班级数, 学生数, 课程数)\n",
    "\n",
    "# 使用 torch.index_select() 函数抽取每个班级中的第0个、第2个、第4个学生的成绩\n",
    "# dim=1 表示在学生维度上进行操作，index 指定了要抽取的学生索引\n",
    "\n",
    "selected_students = torch.index_select(scores, dim=1, index=torch.tensor([0, 2, 4]))\n",
    "\n",
    "# 使用 torch.index_select() 函数抽取每个班级中的第1门、第3门、第6门课程的成绩\n",
    "# dim=2 表示在课程维度上进行操作，index 指定了要抽取的课程索引\n",
    "selected_courses = torch.index_select(selected_students, dim=2, index=torch.tensor([1, 3, 6]))\n",
    "\n",
    "# 最终得到的 selected_courses 张量包含了所需的成绩信息\n",
    "q = selected_courses\n",
    "\n",
    "# 打印抽取的成绩张量 q\n",
    "print(q)\n"
   ]
  },
  {
   "cell_type": "code",
   "execution_count": null,
   "id": "19230d02",
   "metadata": {},
   "outputs": [],
   "source": [
    "#抽取第0个班级第0个学生的第0门课程，第2个班级的第3个学生的第1门课程，第3个班级的第4个学生第6门课程成绩\n",
    "\n",
    "# scores 是包含学生成绩的张量，形状为 (班级数, 学生数, 课程数)\n",
    "# 使用 torch.take() 函数抽取指定位置的成绩\n",
    "# 这里我们通过计算索引来获取需要的成绩\n",
    "# 例如，第0个班级的第0个学生的第0门课程对应的索引是 0 * 5 * 7 + 0 = 0\n",
    "# 第2个班级的第3个学生的第1门课程对应的索引是 2 * 5 * 7 + 3 * 7 + 1 = 92\n",
    "# 第3个班级的第4个学生的第6门课程对应的索引是 3 * 5 * 7 + 4 * 7 + 6 = 139\n",
    "# 这些索引将成绩张量 scores 看作一维数组，并从中抽取所需的元素\n",
    "selected_scores = torch.take(scores, torch.tensor([0, 92, 139]))\n",
    "\n",
    "# 最终得到的 selected_scores 包含了所需的成绩信息\n",
    "s = selected_scores\n",
    "\n",
    "# 打印抽取的成绩张量 s\n",
    "print(s)\n",
    "\n"
   ]
  },
  {
   "cell_type": "code",
   "execution_count": null,
   "id": "d753e409",
   "metadata": {},
   "outputs": [],
   "source": [
    "#抽取分数大于等于80分的分数（布尔索引）\n",
    "\n",
    "# 使用 torch.masked_select() 函数抽取满足条件（分数大于等于80分）的分数\n",
    "# scores >= 80 返回一个布尔张量，指示哪些元素满足条件\n",
    "# 然后 torch.masked_select(scores, scores >= 80) 从 scores 中抽取满足条件的分数\n",
    "selected_scores = torch.masked_select(scores, scores >= 80)\n",
    "\n",
    "# 最终得到的 selected_scores 包含了满足条件的成绩信息\n",
    "g = selected_scores\n",
    "\n",
    "# 打印抽取的满足条件的成绩张量 g\n",
    "print(g)\n"
   ]
  },
  {
   "cell_type": "markdown",
   "id": "fd888de5",
   "metadata": {},
   "source": [
    "以上这些方法仅能提取张量的部分元素值，但不能更改张量的部分元素值得到新的张量。\n",
    "\n",
    "如果要通过修改张量的部分元素值得到新的张量，可以使用torch.where,torch.index_fill 和 torch.masked_fill\n",
    "\n",
    "torch.where可以理解为if的张量版本。\n",
    "\n",
    "torch.index_fill的选取元素逻辑和torch.index_select相同。\n",
    "\n",
    "torch.masked_fill的选取元素逻辑和torch.masked_select相同。\n"
   ]
  },
  {
   "cell_type": "code",
   "execution_count": null,
   "id": "59ebf9da",
   "metadata": {},
   "outputs": [],
   "source": [
    "# 使用 torch.where() 函数根据条件进行赋值操作\n",
    "# 当 scores 大于60分时，赋值为1；否则赋值为0\n",
    "ifpass = torch.where(scores > 60, torch.tensor(1), torch.tensor(0))\n",
    "\n",
    "# 最终得到的 ifpass 包含了根据条件赋值后的成绩信息\n",
    "# 大于60分的成绩变为1，小于等于60分的成绩变为0\n",
    "print(ifpass)"
   ]
  },
  {
   "cell_type": "code",
   "execution_count": null,
   "id": "8daaca71",
   "metadata": {},
   "outputs": [],
   "source": [
    "#将每个班级第0个学生，第2个学生，第4个学生的全部成绩赋值成满分\n",
    "#注意，这是一个原地操作，会修改原始的 scores 张量\n",
    "torch.index_fill(scores, dim=1, index=torch.tensor([0, 2, 4]), value=100)\n",
    "#等价于 scores.index_fill(dim = 1,index = torch.tensor([0,2,4]),value = 100)"
   ]
  },
  {
   "cell_type": "code",
   "execution_count": null,
   "id": "1cdbf318",
   "metadata": {},
   "outputs": [],
   "source": [
    "# 使用 torch.masked_fill() 函数将分数小于60分的分数赋值为60分\n",
    "# scores < 60 返回一个布尔张量，指示哪些成绩小于60分\n",
    "# 然后 torch.masked_fill(scores, scores < 60, 60) 对满足条件的元素进行赋值操作\n",
    "b = torch.masked_fill(scores, scores < 60, 60)\n",
    "\n",
    "# 最终得到的 b 包含了分数小于60分的成绩被赋值为60分的信息\n",
    "print(b)"
   ]
  },
  {
   "cell_type": "markdown",
   "id": "f840b1ef",
   "metadata": {},
   "source": [
    "### 三，维度变换"
   ]
  },
  {
   "cell_type": "markdown",
   "id": "50c75e1d",
   "metadata": {},
   "source": [
    "维度变换相关函数主要有 torch.reshape(或者调用张量的view方法), torch.squeeze, torch.unsqueeze, torch.transpose\n",
    "\n",
    "torch.reshape 可以改变张量的形状。\n",
    "\n",
    "torch.squeeze 可以减少维度。\n",
    "\n",
    "torch.unsqueeze 可以增加维度。\n",
    "\n",
    "torch.transpose/torch.permute 可以交换维度。\n"
   ]
  },
  {
   "cell_type": "code",
   "execution_count": null,
   "id": "6f2eb3fd",
   "metadata": {},
   "outputs": [],
   "source": [
    "# 导入PyTorch库\n",
    "import torch\n",
    "\n",
    "# 设置随机种子，以确保生成的随机数是可复现的\n",
    "torch.manual_seed(0)\n",
    "\n",
    "# 定义随机整数的最小值和最大值\n",
    "minval, maxval = 0, 255\n",
    "\n",
    "# 使用 torch.rand() 生成一个形状为 (1, 3, 3, 2) 的随机整数张量\n",
    "# 然后通过 .int() 方法将结果转换为整数类型的张量\n",
    "a = (minval + (maxval - minval) * torch.rand([1, 3, 3, 2])).int()\n",
    "\n",
    "# 打印生成的随机整数张量 a 的形状和内容\n",
    "print(\"原始形状：\", a.shape)\n",
    "print(\"原始内容：\", a)\n",
    "\n",
    "# 使用 reshape() 方法改变形状\n",
    "# 这里将形状从 (1, 3, 3, 2) 改变为 (3, 6)\n",
    "b = a.reshape(3, 6)\n",
    "\n",
    "# 打印改变形状后的张量 b 的形状和内容\n",
    "print(\"改变形状后：\", b.shape)\n",
    "print(\"改变形状后内容：\", b)\n"
   ]
  },
  {
   "cell_type": "code",
   "execution_count": null,
   "id": "99a96211",
   "metadata": {},
   "outputs": [],
   "source": [
    "# 使用 view() 方法将张量 a 的形状从 (1, 3, 3, 2) 改变为 (3, 6)\n",
    "b = a.view([3, 6])\n",
    "\n",
    "# 打印改变形状后的张量 b 的形状和内容\n",
    "print(\"改变形状后：\", b.shape)\n",
    "print(\"改变形状后内容：\", b)\n"
   ]
  },
  {
   "cell_type": "code",
   "execution_count": null,
   "id": "af828000",
   "metadata": {},
   "outputs": [],
   "source": [
    "# 改回成 [1,3,3,2] 形状的张量\n",
    "c = torch.reshape(b, [1, 3, 3, 2])  # b.view([1,3,3,2]) \n",
    "print(c)"
   ]
  },
  {
   "cell_type": "markdown",
   "id": "619a6692",
   "metadata": {},
   "source": [
    "如果张量在某个维度上只有一个元素，利用torch.squeeze可以消除这个维度。\n",
    "\n",
    "torch.unsqueeze的作用和torch.squeeze的作用相反。"
   ]
  },
  {
   "cell_type": "code",
   "execution_count": null,
   "id": "c5fcad41",
   "metadata": {},
   "outputs": [],
   "source": [
    "# 创建一个形状为 (1, 2) 的张量 a\n",
    "a = torch.tensor([[1.0, 2.0]])\n",
    "\n",
    "# 使用 torch.squeeze() 函数移除维度为1的维度，生成新的张量 s\n",
    "s = torch.squeeze(a)\n",
    "\n",
    "# 打印原始张量 a 和新生成的张量 s\n",
    "print(\"原始张量 a：\", a)\n",
    "print(\"新生成的张量 s：\", s)\n",
    "\n",
    "# 打印张量 a 和 s 的形状\n",
    "print(\"张量 a 的形状：\", a.shape)\n",
    "print(\"张量 s 的形状：\", s.shape)\n"
   ]
  },
  {
   "cell_type": "code",
   "execution_count": null,
   "id": "250cab70",
   "metadata": {},
   "outputs": [],
   "source": [
    "# 创建一个形状为 (2,) 的张量 s\n",
    "s = torch.tensor([1.0, 2.0])\n",
    "\n",
    "# 使用 torch.unsqueeze() 函数在第0维插入一个长度为1的维度，生成新的张量 d\n",
    "d = torch.unsqueeze(s, dim=0)\n",
    "\n",
    "# 打印原始张量 s 和新生成的张量 d\n",
    "print(\"原始张量 s：\", s)\n",
    "print(\"新生成的张量 d：\", d)\n",
    "\n",
    "# 打印张量 s 和 d 的形状\n",
    "print(\"张量 s 的形状：\", s.shape)\n",
    "print(\"张量 d 的形状：\", d.shape)\n"
   ]
  },
  {
   "cell_type": "markdown",
   "id": "1b51c3b8",
   "metadata": {},
   "source": [
    "torch.transpose可以交换张量的维度，torch.transpose常用于图片存储格式的变换上。\n",
    "\n",
    "如果是二维的矩阵，通常会调用矩阵的转置方法 matrix.t()，等价于 torch.transpose(matrix,0,1)。\n"
   ]
  },
  {
   "cell_type": "code",
   "execution_count": null,
   "id": "f0214621",
   "metadata": {},
   "outputs": [],
   "source": [
    "# 定义最小值和最大值\n",
    "minval = 0\n",
    "maxval = 255\n",
    "\n",
    "# 生成一个形状为 (100, 256, 256, 4) 的随机整数张量 data\n",
    "data = torch.floor(minval + (maxval - minval) * torch.rand([100, 256, 256, 4])).int()\n",
    "\n",
    "# 打印 data 的形状\n",
    "print(\"原始形状：\", data.shape)\n",
    "\n",
    "# 将 data 转换成 PyTorch 默认的图片格式 (Batch, Channel, Height, Width)\n",
    "# 需要进行两次维度交换操作\n",
    "data_t = torch.transpose(torch.transpose(data, 1, 2), 1, 3)\n",
    "\n",
    "# 打印转换后的 data_t 的形状\n",
    "print(\"转换后的形状：\", data_t.shape)\n",
    "\n",
    "# 使用 torch.permute() 对维度的顺序进行重新编排，将 data 转换成 (Batch, Channel, Height, Width) 格式\n",
    "data_p = torch.permute(data, [0, 3, 1, 2])\n",
    "\n",
    "# 打印使用 permute() 转换后的 data_p 的形状\n",
    "print(\"使用 permute() 转换后的形状：\", data_p.shape)\n"
   ]
  },
  {
   "cell_type": "code",
   "execution_count": null,
   "id": "217205e5",
   "metadata": {},
   "outputs": [],
   "source": [
    "# 创建一个矩阵\n",
    "matrix = torch.tensor([[1, 2, 3], [4, 5, 6]])\n",
    "\n",
    "# 打印原始矩阵\n",
    "print(\"原始矩阵：\")\n",
    "print(matrix)\n",
    "\n",
    "# 使用 .t() 方法进行矩阵转置\n",
    "# 注意：这个方法只适用于2D张量（矩阵）\n",
    "transposed_matrix_t = matrix.t()\n",
    "\n",
    "# 打印转置后的矩阵\n",
    "print(\"使用 .t() 方法转置后的矩阵：\")\n",
    "print(transposed_matrix_t)\n",
    "\n",
    "# 使用 torch.transpose() 函数进行矩阵转置\n",
    "# 这里等价于 torch.transpose(matrix, 0, 1)\n",
    "transposed_matrix = torch.transpose(matrix, 0, 1)\n",
    "\n",
    "# 打印使用 torch.transpose() 函数转置后的矩阵\n",
    "print(\"使用 torch.transpose() 函数转置后的矩阵：\")\n",
    "print(transposed_matrix)\n"
   ]
  },
  {
   "cell_type": "markdown",
   "id": "1af8cd68",
   "metadata": {},
   "source": [
    "### 四，合并分割"
   ]
  },
  {
   "cell_type": "markdown",
   "id": "0d0768d9",
   "metadata": {},
   "source": [
    "可以用torch.cat方法和torch.stack方法将多个张量合并，可以用torch.split方法把一个张量分割成多个张量。\n",
    "\n",
    "torch.cat和torch.stack有略微的区别，torch.cat是连接，不会增加维度，而torch.stack是堆叠，会增加维度。\n"
   ]
  },
  {
   "cell_type": "code",
   "execution_count": null,
   "id": "a4d8c45d",
   "metadata": {},
   "outputs": [],
   "source": [
    "# 导入PyTorch库\n",
    "import torch\n",
    "\n",
    "# 创建三个张量 a、b 和 c\n",
    "a = torch.tensor([[1.0, 2.0], [3.0, 4.0]])\n",
    "b = torch.tensor([[5.0, 6.0], [7.0, 8.0]])\n",
    "c = torch.tensor([[9.0, 10.0], [11.0, 12.0]])\n",
    "\n",
    "# 使用 torch.cat() 函数将三个张量按行连接（堆叠）\n",
    "# 这里 dim=0 表示在行的维度上进行连接\n",
    "abc_cat = torch.cat([a, b, c], dim=0)\n",
    "\n",
    "# 打印连接后的张量 abc_cat 的形状和内容\n",
    "print(\"连接后的形状：\", abc_cat.shape)\n",
    "print(\"连接后的内容：\")\n",
    "print(abc_cat)\n"
   ]
  },
  {
   "cell_type": "code",
   "execution_count": null,
   "id": "c5f1b5ee",
   "metadata": {},
   "outputs": [],
   "source": [
    "# 使用 torch.stack() 函数将三个张量进行堆叠\n",
    "# 这里可以使用 axis=0 或 dim=0，效果相同\n",
    "abc_stack = torch.stack([a, b, c], axis=0)\n",
    "\n",
    "##\n",
    "# 使用 torch.stack() 在新的维度上堆叠，形状为 (3, 2, 2)\n",
    "# 使用 torch.cat() 沿指定维度连接， 形状为 (6, 2)\n",
    "\n",
    "# 打印堆叠后的张量 abc_stack 的形状和内容\n",
    "print(\"堆叠后的形状：\", abc_stack.shape)\n",
    "print(\"堆叠后的内容：\")\n",
    "print(abc_stack)"
   ]
  },
  {
   "cell_type": "code",
   "execution_count": null,
   "id": "ae893622",
   "metadata": {},
   "outputs": [],
   "source": [
    "torch.cat([a, b, c], axis=1)"
   ]
  },
  {
   "cell_type": "code",
   "execution_count": null,
   "id": "550ec0d4",
   "metadata": {},
   "outputs": [],
   "source": [
    "torch.stack([a, b, c], axis=1)"
   ]
  },
  {
   "cell_type": "markdown",
   "id": "6dadfc66",
   "metadata": {},
   "source": [
    "torch.split是torch.cat的逆运算，可以指定分割份数平均分割，也可以通过指定每份的记录数量进行分割。"
   ]
  },
  {
   "cell_type": "code",
   "execution_count": null,
   "id": "50e02ce3",
   "metadata": {},
   "outputs": [],
   "source": [
    "# 打印原始张量 abc_cat\n",
    "print(\"原始张量 abc_cat:\")\n",
    "print(abc_cat)\n",
    "\n",
    "# 使用 torch.split() 函数将张量 abc_cat 沿 dim=0 维度等分割成三份\n",
    "# 每份包含2个元素\n",
    "a, b, c = torch.split(abc_cat, split_size_or_sections=2, dim=0)\n",
    "\n",
    "# 打印分割后的张量 a、b 和 c\n",
    "print(\"分割后的张量 a:\")\n",
    "print(a)\n",
    "print(\"分割后的张量 b:\")\n",
    "print(b)\n",
    "print(\"分割后的张量 c:\")\n",
    "print(c)\n"
   ]
  },
  {
   "cell_type": "code",
   "execution_count": null,
   "id": "fae5c5f1",
   "metadata": {},
   "outputs": [],
   "source": [
    "# 打印原始张量 abc_cat\n",
    "print(\"原始张量 abc_cat:\")\n",
    "print(abc_cat)\n",
    "\n",
    "# 使用 torch.split() 函数将张量 abc_cat 沿 dim=0 维度不等分割成三份\n",
    "# 每份分别包含[4, 1, 1]个元素\n",
    "p, q, r = torch.split(abc_cat, split_size_or_sections=[4, 1, 1], dim=0)\n",
    "\n",
    "# 打印不等分割后的张量 p、q 和 r\n",
    "print(\"不等分割后的张量 p:\")\n",
    "print(p)\n",
    "print(\"不等分割后的张量 q:\")\n",
    "print(q)\n",
    "print(\"不等分割后的张量 r:\")\n",
    "print(r)\n"
   ]
  }
 ],
 "metadata": {
  "jupytext": {
   "cell_metadata_filter": "-all",
   "main_language": "python"
  },
  "kernelspec": {
   "display_name": "Python 3 (ipykernel)",
   "language": "python",
   "name": "python3"
  },
  "language_info": {
   "codemirror_mode": {
    "name": "ipython",
    "version": 3
   },
   "file_extension": ".py",
   "mimetype": "text/x-python",
   "name": "python",
   "nbconvert_exporter": "python",
   "pygments_lexer": "ipython3",
   "version": "3.9.0"
  }
 },
 "nbformat": 4,
 "nbformat_minor": 5
}
