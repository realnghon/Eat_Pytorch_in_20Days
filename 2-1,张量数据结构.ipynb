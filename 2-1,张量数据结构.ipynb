{
 "cells": [
  {
   "cell_type": "markdown",
   "id": "2f6e3d91",
   "metadata": {},
   "source": [
    "# 2-1,张量数据结构\n",
    "\n",
    "Pytorch的基本数据结构是张量Tensor。张量即多维数组。Pytorch的张量和numpy中的array很类似。\n",
    "\n",
    "本节我们主要介绍张量的数据类型、张量的维度、张量的尺寸、张量和numpy数组等基本概念。\n"
   ]
  },
  {
   "cell_type": "code",
   "execution_count": null,
   "id": "30005fa6",
   "metadata": {},
   "outputs": [],
   "source": [
    "import torch\n",
    "\n",
    "print(\"torch.__version__=\" + torch.__version__)\n"
   ]
  },
  {
   "cell_type": "markdown",
   "id": "41f40abd",
   "metadata": {},
   "source": [
    "### 一，张量的数据类型"
   ]
  },
  {
   "cell_type": "markdown",
   "id": "08b194dd",
   "metadata": {},
   "source": [
    "张量的数据类型和numpy.array基本一一对应，但是不支持str类型。\n",
    "\n",
    "包括:\n",
    "\n",
    "torch.float64(torch.double), \n",
    "\n",
    "**torch.float32(torch.float)**, \n",
    "\n",
    "torch.float16, \n",
    "\n",
    "torch.int64(torch.long), \n",
    "\n",
    "torch.int32(torch.int), \n",
    "\n",
    "torch.int16, \n",
    "\n",
    "torch.int8, \n",
    "\n",
    "torch.uint8, \n",
    "\n",
    "torch.bool\n",
    "\n",
    "一般神经网络建模使用的都是torch.float32类型。 "
   ]
  },
  {
   "cell_type": "code",
   "execution_count": null,
   "id": "08ee241e",
   "metadata": {},
   "outputs": [],
   "source": [
    "# 导入必要的库\n",
    "import numpy as np\n",
    "import torch\n",
    "\n",
    "# 创建张量（tensor）并自动推断数据类型\n",
    "\n",
    "# 创建一个整数类型的张量 i，值为 1\n",
    "i = torch.tensor(1)\n",
    "# 打印张量 i 的值和数据类型\n",
    "print(i, i.dtype)\n",
    "\n",
    "# 创建一个浮点数类型的张量 x，值为 2.0\n",
    "x = torch.tensor(2.0)\n",
    "# 打印张量 x 的值和数据类型\n",
    "print(x, x.dtype)\n",
    "\n",
    "# 创建一个布尔类型的张量 b，值为 True（布尔值在PyTorch中被解释为1）\n",
    "b = torch.tensor(True)\n",
    "# 打印张量 b 的值和数据类型\n",
    "print(b, b.dtype)\n"
   ]
  },
  {
   "cell_type": "code",
   "execution_count": null,
   "id": "639539f3",
   "metadata": {},
   "outputs": [],
   "source": [
    "# 指定数据类型创建张量\n",
    "\n",
    "# 创建一个整数类型的张量 i，值为 1，数据类型为 torch.int32\n",
    "i = torch.tensor(1, dtype=torch.int32)\n",
    "# 打印张量 i 的值和数据类型\n",
    "print(i, i.dtype)\n",
    "\n",
    "# 创建一个浮点数类型的张量 x，值为 2.0，数据类型为 torch.double\n",
    "x = torch.tensor(2.0, dtype=torch.double)\n",
    "# 打印张量 x 的值和数据类型\n",
    "print(x, x.dtype)\n"
   ]
  },
  {
   "cell_type": "code",
   "execution_count": null,
   "id": "b44d6e5d",
   "metadata": {},
   "outputs": [],
   "source": [
    "# 使用特定类型的构造函数创建张量\n",
    "\n",
    "# 使用 torch.IntTensor 构造函数创建整数类型的张量 i，值为 1\n",
    "i = torch.IntTensor(1)\n",
    "# 打印张量 i 的值和数据类型\n",
    "print(i, i.dtype)\n",
    "\n",
    "# 使用 torch.Tensor 构造函数创建张量 x，从 NumPy 数组中创建，值为 2.0，默认数据类型为 torch.float32\n",
    "x = torch.Tensor(np.array(2.0))\n",
    "# 打印张量 x 的值和数据类型（等价于 torch.FloatTensor）\n",
    "print(x, x.dtype)\n",
    "\n",
    "# 使用 torch.BoolTensor 构造函数创建布尔类型的张量 b，从 NumPy 数组中创建\n",
    "# 注意：torch.BoolTensor 不再建议使用，可以使用 torch.tensor 或 torch.BoolTensor 来创建布尔张量\n",
    "b = torch.BoolTensor(np.array([1, 0, 2, 0]))\n",
    "# 打印张量 b 的值和数据类型\n",
    "print(b, b.dtype)\n"
   ]
  },
  {
   "cell_type": "code",
   "execution_count": null,
   "id": "58181469",
   "metadata": {},
   "outputs": [],
   "source": [
    "# 不同类型之间的张量转换\n",
    "\n",
    "# 创建一个整数类型的张量 i，值为 1\n",
    "i = torch.tensor(1)\n",
    "# 打印张量 i 的值和数据类型\n",
    "print(i, i.dtype)\n",
    "\n",
    "# 使用 float 方法将整数张量 i 转换为浮点数类型\n",
    "x = i.float()\n",
    "# 打印转换后的张量 x 的值和数据类型\n",
    "print(x, x.dtype)\n",
    "# 注意：原始张量 i 不受影响，仍然是整数类型\n",
    "print(i, i.dtype)\n",
    "\n",
    "# 使用 type 函数将整数张量 i 转换为浮点数类型\n",
    "y = i.type(torch.float)\n",
    "# 打印转换后的张量 y 的值和数据类型\n",
    "print(y, y.dtype)\n",
    "\n",
    "# 使用 type_as 方法将整数张量 i 转换为与张量 x 相同的数据类型\n",
    "z = i.type_as(x)\n",
    "# 打印转换后的张量 z 的值和数据类型\n",
    "print(z, z.dtype)\n",
    "# 注意：原始张量 i 不受影响，仍然是整数类型\n",
    "print(i, i.dtype)\n"
   ]
  },
  {
   "cell_type": "markdown",
   "id": "15bcb7cb",
   "metadata": {},
   "source": [
    "### 二，张量的维度"
   ]
  },
  {
   "cell_type": "markdown",
   "id": "3ddbc02f",
   "metadata": {},
   "source": [
    "不同类型的数据可以用不同维度(dimension)的张量来表示。\n",
    "\n",
    "标量为0维张量，向量为1维张量，矩阵为2维张量。\n",
    "\n",
    "彩色图像有rgb三个通道，可以表示为3维张量。\n",
    "\n",
    "视频还有时间维，可以表示为4维张量。\n",
    "\n",
    "可以简单地总结为：有几层中括号，就是多少维的张量。"
   ]
  },
  {
   "cell_type": "code",
   "execution_count": null,
   "id": "c7185aec",
   "metadata": {},
   "outputs": [],
   "source": [
    "# 创建一个标量张量，值为 True\n",
    "scalar = torch.tensor(True)\n",
    "# 打印标量张量的值和数据类型\n",
    "print(scalar, scalar.dtype)\n",
    "# 打印标量张量的维度，应该为 0\n",
    "print(scalar.dim())\n"
   ]
  },
  {
   "cell_type": "code",
   "execution_count": null,
   "id": "6d9668ac",
   "metadata": {},
   "outputs": [],
   "source": [
    "# 创建一个向量张量，包含四个浮点数值\n",
    "vector = torch.tensor([1.0, 2.0, 3.0, 4.0])\n",
    "# 打印向量张量的值和数据类型\n",
    "print(vector, vector.dtype)\n",
    "# 打印向量张量的维度，应该为 1，因为它是一个一维张量\n",
    "print(vector.dim())  # 向量，1维张量\n"
   ]
  },
  {
   "cell_type": "code",
   "execution_count": null,
   "id": "2f1419cc",
   "metadata": {},
   "outputs": [],
   "source": [
    "# 创建一个矩阵张量，包含两行两列的浮点数值\n",
    "matrix = torch.tensor([[1.0, 2.0], [3.0, 4.0]])\n",
    "# 打印矩阵张量的值和数据类型\n",
    "print(matrix)\n",
    "# 打印矩阵张量的维度，应该为 2，因为它是一个二维张量\n",
    "print(matrix.dim())  # 矩阵，2维张量\n"
   ]
  },
  {
   "cell_type": "code",
   "execution_count": null,
   "id": "912a056d",
   "metadata": {},
   "outputs": [],
   "source": [
    "# 创建一个三维张量，包含两个二维矩阵\n",
    "tensor3 = torch.tensor([[[1.0, 2.0], [3.0, 4.0]], [[5.0, 6.0], [7.0, 8.0]]])\n",
    "# 打印三维张量的值\n",
    "print(tensor3)\n",
    "# 打印三维张量的维度，应该为 3，因为它是一个三维张量\n",
    "print(tensor3.dim())\n"
   ]
  },
  {
   "cell_type": "code",
   "execution_count": null,
   "id": "657029ac",
   "metadata": {},
   "outputs": [],
   "source": [
    "# 创建一个四维张量，包含两个三维张量\n",
    "tensor4 = torch.tensor([[[[1.0, 1.0], [2.0, 2.0]], [[3.0, 3.0], [4.0, 4.0]]],\n",
    "                        [[[5.0, 5.0], [6.0, 6.0]], [[7.0, 7.0], [8.0, 8.0]]]])\n",
    "# 打印四维张量的值\n",
    "print(tensor4)\n",
    "# 打印四维张量的维度，应该为 4，因为它是一个四维张量\n",
    "print(tensor4.dim())  # 四维张量\n"
   ]
  },
  {
   "cell_type": "markdown",
   "id": "2b47b791",
   "metadata": {},
   "source": [
    "### 三，张量的尺寸"
   ]
  },
  {
   "cell_type": "markdown",
   "id": "4a3cd4b9",
   "metadata": {},
   "source": [
    "可以使用 shape属性或者 size()方法查看张量在每一维的长度.\n",
    "\n",
    "可以使用view方法改变张量的尺寸。\n",
    "\n",
    "如果view方法改变尺寸失败，可以使用reshape方法."
   ]
  },
  {
   "cell_type": "code",
   "execution_count": null,
   "id": "3f2499fb",
   "metadata": {},
   "outputs": [],
   "source": [
    "# 创建一个标量（scalar）张量，这个标量的值为True\n",
    "scalar = torch.tensor(True)\n",
    "\n",
    "# 打印标量的大小（size），标量的大小是0维的\n",
    "print(scalar.size())\n",
    "\n",
    "# 打印标量的形状（shape），标量的形状是一个空元组 ()\n",
    "print(scalar.shape)\n"
   ]
  },
  {
   "cell_type": "code",
   "execution_count": null,
   "id": "af6cc014",
   "metadata": {},
   "outputs": [],
   "source": [
    "# 创建一个包含四个元素的向量张量\n",
    "vector = torch.tensor([1.0, 2.0, 3.0, 4.0])\n",
    "\n",
    "# 打印向量的大小（size），向量的大小是1维，包含4个元素\n",
    "print(vector.size())\n",
    "\n",
    "# 打印向量的形状（shape），向量的形状是一个包含一个整数的元组 (4,)\n",
    "print(vector.shape)"
   ]
  },
  {
   "cell_type": "code",
   "execution_count": null,
   "id": "c1426615",
   "metadata": {},
   "outputs": [],
   "source": [
    "# 创建一个包含两行两列的矩阵张量\n",
    "matrix = torch.tensor([[1.0, 2.0], [3.0, 4.0]])\n",
    "\n",
    "# 打印矩阵的大小（size），矩阵的大小是2维，第一个维度有2个元素，第二个维度也有2个元素\n",
    "print(matrix.size())\n",
    "\n",
    "# 打印矩阵的形状（shape），形状是一个包含两个整数的元组 (2, 2)\n",
    "print(matrix.shape)\n"
   ]
  },
  {
   "cell_type": "code",
   "execution_count": null,
   "id": "6216e5d1",
   "metadata": {},
   "outputs": [],
   "source": [
    "# 创建一个包含0到11的连续整数的向量张量\n",
    "vector = torch.arange(0, 12)\n",
    "print(vector)\n",
    "print(vector.shape)\n",
    "\n",
    "# 使用view方法将向量张量变形为3x4的矩阵\n",
    "matrix34 = vector.view(3, 4)\n",
    "print(matrix34)\n",
    "print(matrix34.shape)\n",
    "\n",
    "# 使用view方法将向量张量变形为4x3的矩阵，-1表示该位置的长度由程序自动推断\n",
    "matrix43 = vector.view(4, -1)\n",
    "print(matrix43)\n",
    "print(matrix43.shape)\n"
   ]
  },
  {
   "cell_type": "code",
   "execution_count": null,
   "id": "9c5e90e3",
   "metadata": {},
   "outputs": [],
   "source": [
    "# 创建一个包含0到11的连续整数的2x6矩阵\n",
    "matrix26 = torch.arange(0, 12).view(2, 6)\n",
    "print(matrix26)\n",
    "print(matrix26.shape)\n",
    "\n",
    "# 转置操作会扭曲张量的存储结构\n",
    "matrix62 = matrix26.t()\n",
    "print(matrix62.is_contiguous())  # 检查是否连续存储\n",
    "\n",
    "# 直接使用view方法会失败，因为存储结构扭曲\n",
    "# matrix34 = matrix62.view(3, 4)  # 这一行会报错\n",
    "\n",
    "# 使用reshape方法或contiguous()方法可以解决问题\n",
    "matrix34 = matrix62.reshape(3, 4)  # 使用reshape方法\n",
    "# 或者\n",
    "# matrix34 = matrix62.contiguous().view(3, 4)  # 使用contiguous()方法和view方法\n",
    "print(matrix34)\n"
   ]
  },
  {
   "cell_type": "markdown",
   "id": "9bd6edcf",
   "metadata": {},
   "source": [
    "### 四，张量和numpy数组"
   ]
  },
  {
   "cell_type": "markdown",
   "id": "eeae56d7",
   "metadata": {},
   "source": [
    "可以用numpy方法从Tensor得到numpy数组，也可以用torch.from_numpy从numpy数组得到Tensor。\n",
    "\n",
    "这两种方法关联的Tensor和numpy数组是共享数据内存的。\n",
    "\n",
    "如果改变其中一个，另外一个的值也会发生改变。\n",
    "\n",
    "如果有需要，可以用张量的clone方法拷贝张量，中断这种关联。\n",
    "\n",
    "此外，还可以使用item方法从标量张量得到对应的Python数值。\n",
    "\n",
    "使用tolist方法从张量得到对应的Python数值列表。\n"
   ]
  },
  {
   "cell_type": "code",
   "execution_count": null,
   "id": "8cea696f",
   "metadata": {},
   "outputs": [],
   "source": [
    "import numpy as np\n",
    "import torch"
   ]
  },
  {
   "cell_type": "code",
   "execution_count": null,
   "id": "2c27e5ce",
   "metadata": {},
   "outputs": [],
   "source": [
    "# 创建一个包含三个零元素的NumPy数组\n",
    "arr = np.zeros(3)\n",
    "\n",
    "# 使用torch.from_numpy()函数将NumPy数组转换为PyTorch张量\n",
    "tensor = torch.from_numpy(arr)\n",
    "\n",
    "# 打印转换前的NumPy数组和相应的PyTorch张量\n",
    "print(\"before add 1:\")\n",
    "print(arr)  # 打印NumPy数组\n",
    "print(tensor)  # 打印PyTorch张量\n",
    "\n",
    "# 在NumPy数组上执行加1的操作，注意tensor也会随之改变\n",
    "print(\"\\nafter add 1:\")\n",
    "np.add(arr, 1, out=arr)  # 给NumPy数组增加1，tensor也会随之改变\n",
    "'''\n",
    "np.add(arr, 1, out=arr) 是一个NumPy的数组运算，它的作用是将数组 arr 中的每个元素都加上1，并将结果存储在原始数组 arr 中\n",
    "'''\n",
    "print(arr)  # 打印修改后的NumPy数组\n",
    "print(tensor)  # 打印相应的PyTorch张量\n"
   ]
  },
  {
   "cell_type": "code",
   "execution_count": null,
   "id": "88fdbf45",
   "metadata": {},
   "outputs": [],
   "source": [
    "# 创建一个包含三个零元素的PyTorch张量\n",
    "tensor = torch.zeros(3)\n",
    "\n",
    "# 使用.numpy()方法将PyTorch张量转换为NumPy数组\n",
    "arr = tensor.numpy()\n",
    "\n",
    "# 打印转换前的PyTorch张量和相应的NumPy数组\n",
    "print(\"before add 1:\")\n",
    "print(tensor)  # 打印PyTorch张量\n",
    "print(arr)  # 打印NumPy数组\n",
    "\n",
    "# 在PyTorch张量上执行加1的操作，注意arr也会随之改变\n",
    "print(\"\\nafter add 1:\")\n",
    "tensor.add_(1)  # 给PyTorch张量增加1，arr也会随之改变\n",
    "# 或者可以使用 torch.add(tensor, 1, out=tensor)\n",
    "print(tensor)  # 打印修改后的PyTorch张量\n",
    "print(arr)  # 打印相应的NumPy数组\n"
   ]
  },
  {
   "cell_type": "code",
   "execution_count": null,
   "id": "13fb0e0e",
   "metadata": {},
   "outputs": [],
   "source": [
    "# 创建一个包含三个零元素的PyTorch张量\n",
    "tensor = torch.zeros(3)\n",
    "\n",
    "# 使用clone()方法创建一个与原始张量内存独立的拷贝，并将其转换为NumPy数组\n",
    "arr = tensor.clone().numpy()  # 也可以使用tensor.data.numpy()\n",
    "\n",
    "# 打印拷贝前的PyTorch张量和相应的NumPy数组\n",
    "print(\"before add 1:\")\n",
    "print(tensor)  # 打印原始PyTorch张量\n",
    "print(arr)  # 打印NumPy数组\n",
    "\n",
    "# 在原始PyTorch张量上执行加1的操作，但拷贝的NumPy数组不会受到影响\n",
    "print(\"\\nafter add 1:\")\n",
    "tensor.add_(1)  # 给原始PyTorch张量增加1\n",
    "print(tensor)  # 打印修改后的原始PyTorch张量\n",
    "print(arr)  # 打印拷贝的NumPy数组，不受影响\n"
   ]
  },
  {
   "cell_type": "code",
   "execution_count": null,
   "id": "72f9b26a",
   "metadata": {},
   "outputs": [],
   "source": [
    "# 创建一个标量张量\n",
    "scalar = torch.tensor(1.0)\n",
    "\n",
    "# 使用item()方法将标量张量转换为Python标量（单个数值）\n",
    "s = scalar.item()\n",
    "\n",
    "# 打印转换后的Python标量和其类型\n",
    "print(s)  # 打印Python标量\n",
    "print(type(s))  # 打印Python标量的类型\n",
    "\n",
    "# 创建一个2x2的随机张量\n",
    "tensor = torch.rand(2, 2)\n",
    "\n",
    "# 使用tolist()方法将张量转换为Python列表\n",
    "t = tensor.tolist()\n",
    "\n",
    "# 打印转换后的Python列表和其类型\n",
    "print(t)  # 打印Python列表\n",
    "print(type(t))  # 打印Python列表的类型\n"
   ]
  },
  {
   "cell_type": "code",
   "execution_count": null,
   "outputs": [],
   "source": [],
   "metadata": {
    "collapsed": false
   },
   "id": "1703b8676e828d52"
  }
 ],
 "metadata": {
  "jupytext": {
   "cell_metadata_filter": "-all",
   "formats": "ipynb,md",
   "main_language": "python"
  },
  "kernelspec": {
   "display_name": "Python 3 (ipykernel)",
   "language": "python",
   "name": "python3"
  },
  "language_info": {
   "codemirror_mode": {
    "name": "ipython",
    "version": 3
   },
   "file_extension": ".py",
   "mimetype": "text/x-python",
   "name": "python",
   "nbconvert_exporter": "python",
   "pygments_lexer": "ipython3",
   "version": "3.9.0"
  }
 },
 "nbformat": 4,
 "nbformat_minor": 5
}
