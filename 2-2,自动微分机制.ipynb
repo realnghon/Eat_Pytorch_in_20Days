{
 "cells": [
  {
   "cell_type": "markdown",
   "id": "201a1b8f",
   "metadata": {},
   "source": [
    "# 2-2,自动微分机制"
   ]
  },
  {
   "cell_type": "markdown",
   "id": "63102fcc",
   "metadata": {},
   "source": [
    "神经网络通常依赖反向传播求梯度来更新网络参数，求梯度过程通常是一件非常复杂而容易出错的事情。\n",
    "\n",
    "而深度学习框架可以帮助我们自动地完成这种求梯度运算。\n",
    "\n",
    "Pytorch一般通过反向传播 backward 方法 实现这种求梯度计算。该方法求得的梯度将存在对应自变量张量的grad属性下。\n",
    "\n",
    "除此之外，也能够调用torch.autograd.grad 函数来实现求梯度计算。\n",
    "\n",
    "这就是Pytorch的自动微分机制。"
   ]
  },
  {
   "cell_type": "code",
   "execution_count": null,
   "id": "1ca9b970",
   "metadata": {},
   "outputs": [],
   "source": [
    "import torch\n",
    "\n",
    "print(\"torch.__version__=\" + torch.__version__)"
   ]
  },
  {
   "cell_type": "markdown",
   "id": "36e66065",
   "metadata": {},
   "source": [
    "### 一，利用backward方法求导数"
   ]
  },
  {
   "cell_type": "markdown",
   "id": "ac1d6e6c",
   "metadata": {},
   "source": [
    "backward 方法通常在一个标量张量上调用，该方法求得的梯度将存在对应自变量张量的grad属性下。\n",
    "\n",
    "如果调用的张量非标量，则要传入一个和它同形状 的gradient参数张量。\n",
    "\n",
    "相当于用该gradient参数张量与调用张量作向量点乘，得到的标量结果再反向传播。\n"
   ]
  },
  {
   "cell_type": "markdown",
   "id": "2baf6e72",
   "metadata": {},
   "source": [
    "**1, 标量的反向传播**"
   ]
  },
  {
   "cell_type": "code",
   "execution_count": null,
   "id": "f007e5ac",
   "metadata": {},
   "outputs": [],
   "source": [
    "import torch  # 导入PyTorch库\n",
    "\n",
    "# 定义函数 f(x) = a*x**2 + b*x + c 的参数\n",
    "x = torch.tensor(0.0, requires_grad=True)  # 创建一个张量 x，初始值为 0.0，需要计算梯度\n",
    "a = torch.tensor(1.0)  # 定义参数 a，这里取值为 1.0\n",
    "b = torch.tensor(-2.0)  # 定义参数 b，这里取值为 -2.0\n",
    "c = torch.tensor(1.0)  # 定义参数 c，这里取值为 1.0\n",
    "\n",
    "# 计算函数值 f(x) = a*x**2 + b*x + c\n",
    "y = a * torch.pow(x, 2) + b * x + c\n",
    "\n",
    "# 使用反向传播计算导数\n",
    "y.backward()  # 使用backward()方法计算 y 对 x 的导数\n",
    "\n",
    "# 提取导数值\n",
    "dy_dx = x.grad  # x.grad 包含了在 x = 0 处的导数值\n",
    "\n",
    "# 打印导数值\n",
    "print(dy_dx)  # 打印导数值，即 f'(0) 的值\n"
   ]
  },
  {
   "cell_type": "markdown",
   "id": "171c6ddf",
   "metadata": {},
   "source": [
    "**2, 非标量的反向传播**"
   ]
  },
  {
   "cell_type": "code",
   "execution_count": null,
   "id": "830a8071",
   "metadata": {},
   "outputs": [],
   "source": [
    "import torch  # 导入PyTorch库\n",
    "\n",
    "# 定义函数 f(x) = a*x**2 + b*x + c 的参数\n",
    "x = torch.tensor([[0.0, 0.0], [1.0, 2.0]], requires_grad=True)  # 创建一个多维张量 x，初始值为二维数组，需要计算梯度\n",
    "a = torch.tensor(1.0)  # 定义参数 a，这里取值为 1.0\n",
    "b = torch.tensor(-2.0)  # 定义参数 b，这里取值为 -2.0\n",
    "c = torch.tensor(1.0)  # 定义参数 c，这里取值为 1.0\n",
    "\n",
    "# 计算函数值 f(x) = a*x**2 + b*x + c\n",
    "y = a * torch.pow(x, 2) + b * x + c\n",
    "\n",
    "# 定义梯度（导数）的权重，这里使用与 y 同维度的张量来指定每个分量的权重\n",
    "gradient = torch.tensor([[1.0, 1.0], [1.0, 1.0]])\n",
    "\n",
    "# 打印输入 x 和计算得到的输出 y\n",
    "print(\"x:\\n\", x)\n",
    "print(\"y:\\n\", y)\n",
    "\n",
    "# 使用反向传播计算导数，并且使用指定的梯度权重\n",
    "y.backward(gradient=gradient)\n",
    "\n",
    "# 提取 x 关于 y 的梯度值\n",
    "x_grad = x.grad\n",
    "\n",
    "# 打印计算得到的梯度值\n",
    "print(\"x_grad:\\n\", x_grad)"
   ]
  },
  {
   "cell_type": "markdown",
   "id": "a962975d",
   "metadata": {},
   "source": [
    "**3, 非标量的反向传播可以用标量的反向传播实现**"
   ]
  },
  {
   "cell_type": "code",
   "execution_count": null,
   "id": "61e9640d",
   "metadata": {},
   "outputs": [],
   "source": [
    "import torch  # 导入PyTorch库\n",
    "\n",
    "# 定义函数 f(x) = a*x**2 + b*x + c 的参数\n",
    "x = torch.tensor([[0.0, 0.0], [1.0, 2.0]], requires_grad=True)  # 创建一个多维张量 x，初始值为二维数组，需要计算梯度\n",
    "a = torch.tensor(1.0)  # 定义参数 a，这里取值为 1.0\n",
    "b = torch.tensor(-2.0)  # 定义参数 b，这里取值为 -2.0\n",
    "c = torch.tensor(1.0)  # 定义参数 c，这里取值为 1.0\n",
    "\n",
    "# 计算函数值 f(x) = a*x**2 + b*x + c\n",
    "y = a * torch.pow(x, 2) + b * x + c\n",
    "\n",
    "# 定义梯度（导数）的权重，这里使用与 y 同维度的张量来指定每个分量的权重\n",
    "gradient = torch.tensor([[1.0, 1.0], [1.0, 1.0]])\n",
    "\n",
    "# 计算标量 z = Σ(y * gradient)\n",
    "z = torch.sum(y * gradient)\n",
    "\n",
    "# 打印输入 x 和计算得到的输出 y\n",
    "print(\"x:\", x)\n",
    "print(\"y:\", y)\n",
    "\n",
    "# 使用反向传播计算导数\n",
    "z.backward()\n",
    "\n",
    "# 提取 x 关于 z 的梯度值\n",
    "x_grad = x.grad\n",
    "\n",
    "# 打印计算得到的梯度值\n",
    "print(\"x_grad:\\n\", x_grad)\n"
   ]
  },
  {
   "cell_type": "markdown",
   "id": "b37e32f4",
   "metadata": {},
   "source": [
    "### 二，利用autograd.grad方法求导数"
   ]
  },
  {
   "cell_type": "code",
   "execution_count": null,
   "id": "474468ab",
   "metadata": {},
   "outputs": [],
   "source": [
    "import torch  # 导入PyTorch库\n",
    "\n",
    "# 定义函数 f(x) = a*x**2 + b*x + c 的参数\n",
    "x = torch.tensor(0.0, requires_grad=True)  # 创建一个张量 x，初始值为 0.0，需要计算梯度\n",
    "a = torch.tensor(1.0)  # 定义参数 a，这里取值为 1.0\n",
    "b = torch.tensor(-2.0)  # 定义参数 b，这里取值为 -2.0\n",
    "c = torch.tensor(1.0)  # 定义参数 c，这里取值为 1.0\n",
    "\n",
    "# 计算函数值 f(x) = a*x**2 + b*x + c\n",
    "y = a * torch.pow(x, 2) + b * x + c\n",
    "\n",
    "# 使用 torch.autograd.grad 计算一阶导数，并设置 create_graph=True 以允许创建更高阶的导数\n",
    "dy_dx = torch.autograd.grad(y, x, create_graph=True)[0]\n",
    "\n",
    "# 打印一阶导数\n",
    "print(\"一阶导数 (dy/dx) 在 x=0 处的值：\", dy_dx.data)\n",
    "\n",
    "# 使用 torch.autograd.grad 计算二阶导数\n",
    "dy2_dx2 = torch.autograd.grad(dy_dx, x)[0]\n",
    "\n",
    "# 打印二阶导数\n",
    "print(\"二阶导数 (d²y/dx²) 在 x=0 处的值：\", dy2_dx2.data)\n"
   ]
  },
  {
   "cell_type": "code",
   "execution_count": null,
   "id": "41abfc48",
   "metadata": {},
   "outputs": [],
   "source": [
    "import torch  # 导入PyTorch库\n",
    "\n",
    "# 定义两个自变量 x1 和 x2，需要计算它们的梯度\n",
    "x1 = torch.tensor(1.0, requires_grad=True)  # 创建一个张量 x1，初始值为 1.0，需要计算梯度\n",
    "x2 = torch.tensor(2.0, requires_grad=True)  # 创建一个张量 x2，初始值为 2.0，需要计算梯度\n",
    "\n",
    "# 定义两个因变量 y1 和 y2\n",
    "y1 = x1 * x2\n",
    "y2 = x1 + x2\n",
    "\n",
    "# 使用 torch.autograd.grad 计算多个因变量关于多个自变量的导数\n",
    "\n",
    "# 计算 y1 对 x1 和 x2 的导数\n",
    "(dy1_dx1, dy1_dx2) = torch.autograd.grad(outputs=y1, inputs=[x1, x2], retain_graph=True)\n",
    "print(\"y1 对 x1 的导数:\", dy1_dx1.item())\n",
    "print(\"y1 对 x2 的导数:\", dy1_dx2.item())\n",
    "\n",
    "# 计算 y1 和 y2 对 x1 和 x2 的导数，并且将它们的梯度结果相加\n",
    "(dy12_dx1, dy12_dx2) = torch.autograd.grad(outputs=[y1, y2], inputs=[x1, x2])\n",
    "print(\"y1 和 y2 对 x1 的导数:\", dy12_dx1)\n",
    "print(\"y1 和 y2 对 x2 的导数:\", dy12_dx2)\n"
   ]
  },
  {
   "cell_type": "markdown",
   "id": "19acc361",
   "metadata": {},
   "source": [
    "### 三，利用自动微分和优化器求最小值"
   ]
  },
  {
   "cell_type": "code",
   "execution_count": null,
   "id": "fc700c05",
   "metadata": {},
   "outputs": [],
   "source": [
    "import torch  # 导入PyTorch库\n",
    "\n",
    "# 定义函数 f(x) = a*x**2 + b*x + c 的参数\n",
    "x = torch.tensor(0.0, requires_grad=True)  # 创建一个张量 x，初始值为 0.0，需要计算梯度\n",
    "a = torch.tensor(1.0)  # 定义参数 a，这里取值为 1.0\n",
    "b = torch.tensor(-2.0)  # 定义参数 b，这里取值为 -2.0\n",
    "c = torch.tensor(1.0)  # 定义参数 c，这里取值为 1.0\n",
    "\n",
    "# 创建一个优化器，使用随机梯度下降（SGD）来优化变量 x，学习率为 0.01\n",
    "optimizer = torch.optim.SGD(params=[x], lr=0.01)\n",
    "\n",
    "\n",
    "# 定义函数 f(x)\n",
    "def f(x):\n",
    "    result = a * torch.pow(x, 2) + b * x + c\n",
    "    return result\n",
    "\n",
    "\n",
    "# 使用梯度下降法迭代寻找最小值\n",
    "for i in range(500):\n",
    "    optimizer.zero_grad()  # 清零梯度，每次迭代前都要清零\n",
    "    y = f(x)  # 计算函数值\n",
    "    y.backward()  # 计算梯度\n",
    "    optimizer.step()  # 更新 x，使用优化器进行一步梯度下降\n",
    "\n",
    "# 打印找到的最小值和对应的 x 值\n",
    "print(\"最小值 y =\", f(x).data.item(), \"; 对应的 x =\", x.data.item())\n"
   ]
  }
 ],
 "metadata": {
  "jupytext": {
   "cell_metadata_filter": "-all",
   "formats": "ipynb,md",
   "main_language": "python"
  },
  "kernelspec": {
   "display_name": "Python 3 (ipykernel)",
   "language": "python",
   "name": "python3"
  },
  "language_info": {
   "codemirror_mode": {
    "name": "ipython",
    "version": 3
   },
   "file_extension": ".py",
   "mimetype": "text/x-python",
   "name": "python",
   "nbconvert_exporter": "python",
   "pygments_lexer": "ipython3",
   "version": "3.9.0"
  }
 },
 "nbformat": 4,
 "nbformat_minor": 5
}
